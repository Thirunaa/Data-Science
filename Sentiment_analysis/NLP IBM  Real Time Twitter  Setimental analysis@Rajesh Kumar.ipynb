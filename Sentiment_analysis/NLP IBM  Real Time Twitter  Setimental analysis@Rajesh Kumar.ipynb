{
 "cells": [
  {
   "cell_type": "code",
   "execution_count": 1,
   "metadata": {},
   "outputs": [
    {
     "name": "stdout",
     "output_type": "stream",
     "text": [
      "Requirement already satisfied: tweepy in c:\\users\\user\\anaconda3\\lib\\site-packages (3.8.0)\n",
      "Requirement already satisfied: PySocks>=1.5.7 in c:\\users\\user\\anaconda3\\lib\\site-packages (from tweepy) (1.7.1)\n",
      "Requirement already satisfied: six>=1.10.0 in c:\\users\\user\\anaconda3\\lib\\site-packages (from tweepy) (1.12.0)\n",
      "Requirement already satisfied: requests-oauthlib>=0.7.0 in c:\\users\\user\\anaconda3\\lib\\site-packages (from tweepy) (1.3.0)\n",
      "Requirement already satisfied: requests>=2.11.1 in c:\\users\\user\\anaconda3\\lib\\site-packages (from tweepy) (2.22.0)\n",
      "Requirement already satisfied: oauthlib>=3.0.0 in c:\\users\\user\\anaconda3\\lib\\site-packages (from requests-oauthlib>=0.7.0->tweepy) (3.1.0)\n",
      "Requirement already satisfied: idna<2.9,>=2.5 in c:\\users\\user\\anaconda3\\lib\\site-packages (from requests>=2.11.1->tweepy) (2.8)\n",
      "Requirement already satisfied: chardet<3.1.0,>=3.0.2 in c:\\users\\user\\anaconda3\\lib\\site-packages (from requests>=2.11.1->tweepy) (3.0.4)\n",
      "Requirement already satisfied: certifi>=2017.4.17 in c:\\users\\user\\anaconda3\\lib\\site-packages (from requests>=2.11.1->tweepy) (2019.11.28)\n",
      "Requirement already satisfied: urllib3!=1.25.0,!=1.25.1,<1.26,>=1.21.1 in c:\\users\\user\\anaconda3\\lib\\site-packages (from requests>=2.11.1->tweepy) (1.24.2)\n",
      "Collecting credentials\n",
      "  Downloading https://files.pythonhosted.org/packages/45/d6/e0555289e0139895366dd67f6b000c6834fcba84f7728a93f95de18440f9/credentials-1.1-py2.py3-none-any.whl\n",
      "Installing collected packages: credentials\n",
      "Successfully installed credentials-1.1\n",
      "Requirement already satisfied: textblob in c:\\users\\user\\anaconda3\\lib\\site-packages (0.15.3)\n",
      "Requirement already satisfied: nltk>=3.1 in c:\\users\\user\\anaconda3\\lib\\site-packages (from textblob) (3.4.5)\n",
      "Requirement already satisfied: six in c:\\users\\user\\anaconda3\\lib\\site-packages (from nltk>=3.1->textblob) (1.12.0)\n"
     ]
    }
   ],
   "source": [
    " !pip install tweepy\n",
    " !pip install credentials\n",
    " !pip install textblob"
   ]
  },
  {
   "cell_type": "code",
   "execution_count": 2,
   "metadata": {
    "collapsed": true
   },
   "outputs": [],
   "source": [
    "\n",
    "import tweepy           \n",
    "import pandas as pd     \n",
    "import numpy as np   \n",
    "\n",
    "# For plotting and visualization:\n",
    "from IPython.display import display\n",
    "import matplotlib.pyplot as plt\n",
    "import seaborn as sns\n",
    "\n",
    "%matplotlib inline"
   ]
  },
  {
   "cell_type": "code",
   "execution_count": 3,
   "metadata": {
    "collapsed": true
   },
   "outputs": [],
   "source": [
    "## specify ur api credentials\n",
    "consumer_key = '6dyaPblOXr95bYQtJWffckIh4'\n",
    "consumer_secret = 'ZDHkwXqisoVn4BIwBFb7GMRURRD0Ti6nvYIfahClZFYJkCv0hr'\n",
    "access_token = '2599485630-SLE7epwwoxXpxPHZWt8RDz0zFOuoP2uAfaNahxS'\n",
    "access_token_secret = 'k3FH1xmFAaqeAXZb0UbscLbEUENrD36YYuh1K5JyMjoMB'"
   ]
  },
  {
   "cell_type": "code",
   "execution_count": 4,
   "metadata": {
    "collapsed": true
   },
   "outputs": [],
   "source": [
    "# Now we define function that can authenticate and extract tweeter data\n",
    "\n",
    "from credentials import *    # This will allow us to use the keys as variables\n",
    "\n",
    "# API's setup:\n",
    "def twitter_setup():\n",
    "    \n",
    "    # Utility function to setup the Twitter's API with our access keys provided.\n",
    "    # Authentication and access using keys:\n",
    "\n",
    "    auth = tweepy.OAuthHandler(consumer_key, consumer_secret)\n",
    "    auth.set_access_token(access_token, access_token_secret)\n",
    "\n",
    "    # Return API with authentication:\n",
    "    \n",
    "    api = tweepy.API(auth)\n",
    "    return api"
   ]
  },
  {
   "cell_type": "code",
   "execution_count": 5,
   "metadata": {},
   "outputs": [
    {
     "name": "stdout",
     "output_type": "stream",
     "text": [
      "Number of tweets extracted: 200.\n",
      "\n",
      "5 recent tweets:\n",
      "\n",
      "@amour_de_porc Have a great day Penny!\n",
      "\n",
      "Meet Gerd Binnig and Heinrich Rohrer, inventors of the scanning tunneling microscope. \n",
      "\n",
      "Their work opened the door… https://t.co/Rgbsk3ICid\n",
      "\n",
      "@sfiloteo Thank you Sherrylyn!\n",
      "\n",
      "@sudo_sudoka Thank you for bringing this to our attention. We will forward to the team that owns the page.\n",
      "\n",
      "@MoRebaie @MoRebaie https://t.co/CDjmtR9A2p\n",
      "\n"
     ]
    }
   ],
   "source": [
    "# Create an extractor object which is called tweets:\n",
    "extractor = twitter_setup()\n",
    "\n",
    "# We create a tweet list as follows:\n",
    "tweets = extractor.user_timeline(screen_name=\"IBM\", count=200)\n",
    "print(\"Number of tweets extracted: {}.\\n\".format(len(tweets)))\n",
    "\n",
    "# We print the most recent 5 tweets:\n",
    "print(\"5 recent tweets:\\n\")\n",
    "for tweet in tweets[:5]:\n",
    "    print(tweet.text)\n",
    "    print()"
   ]
  },
  {
   "cell_type": "code",
   "execution_count": 6,
   "metadata": {},
   "outputs": [
    {
     "data": {
      "text/html": [
       "<div>\n",
       "<style scoped>\n",
       "    .dataframe tbody tr th:only-of-type {\n",
       "        vertical-align: middle;\n",
       "    }\n",
       "\n",
       "    .dataframe tbody tr th {\n",
       "        vertical-align: top;\n",
       "    }\n",
       "\n",
       "    .dataframe thead th {\n",
       "        text-align: right;\n",
       "    }\n",
       "</style>\n",
       "<table border=\"1\" class=\"dataframe\">\n",
       "  <thead>\n",
       "    <tr style=\"text-align: right;\">\n",
       "      <th></th>\n",
       "      <th>Tweets</th>\n",
       "    </tr>\n",
       "  </thead>\n",
       "  <tbody>\n",
       "    <tr>\n",
       "      <th>0</th>\n",
       "      <td>@amour_de_porc Have a great day Penny!</td>\n",
       "    </tr>\n",
       "    <tr>\n",
       "      <th>1</th>\n",
       "      <td>Meet Gerd Binnig and Heinrich Rohrer, inventor...</td>\n",
       "    </tr>\n",
       "    <tr>\n",
       "      <th>2</th>\n",
       "      <td>@sfiloteo Thank you Sherrylyn!</td>\n",
       "    </tr>\n",
       "    <tr>\n",
       "      <th>3</th>\n",
       "      <td>@sudo_sudoka Thank you for bringing this to ou...</td>\n",
       "    </tr>\n",
       "    <tr>\n",
       "      <th>4</th>\n",
       "      <td>@MoRebaie @MoRebaie https://t.co/CDjmtR9A2p</td>\n",
       "    </tr>\n",
       "    <tr>\n",
       "      <th>5</th>\n",
       "      <td>@Honey_Dropz Happy holidays! 💙 ❄️ ☃️</td>\n",
       "    </tr>\n",
       "    <tr>\n",
       "      <th>6</th>\n",
       "      <td>@barbphillips77 We wish you and everyone at @W...</td>\n",
       "    </tr>\n",
       "    <tr>\n",
       "      <th>7</th>\n",
       "      <td>@pantone 💙</td>\n",
       "    </tr>\n",
       "    <tr>\n",
       "      <th>8</th>\n",
       "      <td>@MariamMadiha @MariamMadiha https://t.co/0Miit...</td>\n",
       "    </tr>\n",
       "    <tr>\n",
       "      <th>9</th>\n",
       "      <td>@Deepakkoshal 🎉 https://t.co/ID8ftz8s6T</td>\n",
       "    </tr>\n",
       "  </tbody>\n",
       "</table>\n",
       "</div>"
      ],
      "text/plain": [
       "                                              Tweets\n",
       "0             @amour_de_porc Have a great day Penny!\n",
       "1  Meet Gerd Binnig and Heinrich Rohrer, inventor...\n",
       "2                     @sfiloteo Thank you Sherrylyn!\n",
       "3  @sudo_sudoka Thank you for bringing this to ou...\n",
       "4        @MoRebaie @MoRebaie https://t.co/CDjmtR9A2p\n",
       "5               @Honey_Dropz Happy holidays! 💙 ❄️ ☃️\n",
       "6  @barbphillips77 We wish you and everyone at @W...\n",
       "7                                         @pantone 💙\n",
       "8  @MariamMadiha @MariamMadiha https://t.co/0Miit...\n",
       "9            @Deepakkoshal 🎉 https://t.co/ID8ftz8s6T"
      ]
     },
     "metadata": {},
     "output_type": "execute_result"
    }
   ],
   "source": [
    "# We create a pandas dataframe as follows:\n",
    "data = pd.DataFrame(data=[tweet.text for tweet in tweets], columns=['Tweets'])\n",
    "\n",
    "# We display the first 10 elements of the dataframe:\n",
    "display(data.head(10))"
   ]
  },
  {
   "cell_type": "code",
   "execution_count": 7,
   "metadata": {},
   "outputs": [
    {
     "data": {
      "text/html": [
       "<div>\n",
       "<style scoped>\n",
       "    .dataframe tbody tr th:only-of-type {\n",
       "        vertical-align: middle;\n",
       "    }\n",
       "\n",
       "    .dataframe tbody tr th {\n",
       "        vertical-align: top;\n",
       "    }\n",
       "\n",
       "    .dataframe thead th {\n",
       "        text-align: right;\n",
       "    }\n",
       "</style>\n",
       "<table border=\"1\" class=\"dataframe\">\n",
       "  <thead>\n",
       "    <tr style=\"text-align: right;\">\n",
       "      <th></th>\n",
       "      <th>Tweets</th>\n",
       "    </tr>\n",
       "  </thead>\n",
       "  <tbody>\n",
       "    <tr>\n",
       "      <th>0</th>\n",
       "      <td>@amour_de_porc Have a great day Penny!</td>\n",
       "    </tr>\n",
       "    <tr>\n",
       "      <th>1</th>\n",
       "      <td>Meet Gerd Binnig and Heinrich Rohrer, inventor...</td>\n",
       "    </tr>\n",
       "    <tr>\n",
       "      <th>2</th>\n",
       "      <td>@sfiloteo Thank you Sherrylyn!</td>\n",
       "    </tr>\n",
       "    <tr>\n",
       "      <th>3</th>\n",
       "      <td>@sudo_sudoka Thank you for bringing this to ou...</td>\n",
       "    </tr>\n",
       "    <tr>\n",
       "      <th>4</th>\n",
       "      <td>@MoRebaie @MoRebaie https://t.co/CDjmtR9A2p</td>\n",
       "    </tr>\n",
       "    <tr>\n",
       "      <th>5</th>\n",
       "      <td>@Honey_Dropz Happy holidays! 💙 ❄️ ☃️</td>\n",
       "    </tr>\n",
       "    <tr>\n",
       "      <th>6</th>\n",
       "      <td>@barbphillips77 We wish you and everyone at @W...</td>\n",
       "    </tr>\n",
       "    <tr>\n",
       "      <th>7</th>\n",
       "      <td>@pantone 💙</td>\n",
       "    </tr>\n",
       "    <tr>\n",
       "      <th>8</th>\n",
       "      <td>@MariamMadiha @MariamMadiha https://t.co/0Miit...</td>\n",
       "    </tr>\n",
       "    <tr>\n",
       "      <th>9</th>\n",
       "      <td>@Deepakkoshal 🎉 https://t.co/ID8ftz8s6T</td>\n",
       "    </tr>\n",
       "    <tr>\n",
       "      <th>10</th>\n",
       "      <td>@DanilleJager Looks like it was a great event!...</td>\n",
       "    </tr>\n",
       "    <tr>\n",
       "      <th>11</th>\n",
       "      <td>@ChristosSK1984 What a gem.</td>\n",
       "    </tr>\n",
       "    <tr>\n",
       "      <th>12</th>\n",
       "      <td>@HaleyHervert 👍</td>\n",
       "    </tr>\n",
       "    <tr>\n",
       "      <th>13</th>\n",
       "      <td>@MulberryTH Awesome! Thanks for sharing 👍</td>\n",
       "    </tr>\n",
       "    <tr>\n",
       "      <th>14</th>\n",
       "      <td>@treygo 💙 💙 💙</td>\n",
       "    </tr>\n",
       "    <tr>\n",
       "      <th>15</th>\n",
       "      <td>@ThinkBluePR Happy Holidays everyone! 🎁 🎉 ❄️</td>\n",
       "    </tr>\n",
       "    <tr>\n",
       "      <th>16</th>\n",
       "      <td>@trudannyjohnson @rashidfdavis Hi Danny, we ar...</td>\n",
       "    </tr>\n",
       "    <tr>\n",
       "      <th>17</th>\n",
       "      <td>@AtlantaAnna_ Hi Anna, we are creating a conte...</td>\n",
       "    </tr>\n",
       "    <tr>\n",
       "      <th>18</th>\n",
       "      <td>What's on your wish list this season? 🎁 ❄️ ☃️ ...</td>\n",
       "    </tr>\n",
       "    <tr>\n",
       "      <th>19</th>\n",
       "      <td>@lizzzziesh Happy Holidays everyone! ❄️ 🎁</td>\n",
       "    </tr>\n",
       "  </tbody>\n",
       "</table>\n",
       "</div>"
      ],
      "text/plain": [
       "                                               Tweets\n",
       "0              @amour_de_porc Have a great day Penny!\n",
       "1   Meet Gerd Binnig and Heinrich Rohrer, inventor...\n",
       "2                      @sfiloteo Thank you Sherrylyn!\n",
       "3   @sudo_sudoka Thank you for bringing this to ou...\n",
       "4         @MoRebaie @MoRebaie https://t.co/CDjmtR9A2p\n",
       "5                @Honey_Dropz Happy holidays! 💙 ❄️ ☃️\n",
       "6   @barbphillips77 We wish you and everyone at @W...\n",
       "7                                          @pantone 💙\n",
       "8   @MariamMadiha @MariamMadiha https://t.co/0Miit...\n",
       "9             @Deepakkoshal 🎉 https://t.co/ID8ftz8s6T\n",
       "10  @DanilleJager Looks like it was a great event!...\n",
       "11                        @ChristosSK1984 What a gem.\n",
       "12                                    @HaleyHervert 👍\n",
       "13          @MulberryTH Awesome! Thanks for sharing 👍\n",
       "14                                      @treygo 💙 💙 💙\n",
       "15       @ThinkBluePR Happy Holidays everyone! 🎁 🎉 ❄️\n",
       "16  @trudannyjohnson @rashidfdavis Hi Danny, we ar...\n",
       "17  @AtlantaAnna_ Hi Anna, we are creating a conte...\n",
       "18  What's on your wish list this season? 🎁 ❄️ ☃️ ...\n",
       "19          @lizzzziesh Happy Holidays everyone! ❄️ 🎁"
      ]
     },
     "metadata": {},
     "output_type": "execute_result"
    }
   ],
   "source": [
    "#Creating a data frame\n",
    "data = pd.DataFrame(data=[tweet.text for tweet in tweets], columns=['Tweets'])\n",
    "\n",
    "\n",
    "display(data.head(20))"
   ]
  },
  {
   "cell_type": "code",
   "execution_count": 11,
   "metadata": {},
   "outputs": [
    {
     "name": "stdout",
     "output_type": "stream",
     "text": [
      "1204487952119848960\n",
      "1\n",
      "0\n"
     ]
    }
   ],
   "source": [
    "# We print info from the first tweet:\n",
    "print(tweets[0].id)\n",
    "print(tweets[0].favorite_count)\n",
    "print(tweets[0].retweet_count)\n"
   ]
  },
  {
   "cell_type": "code",
   "execution_count": 12,
   "metadata": {
    "collapsed": true
   },
   "outputs": [],
   "source": [
    "# We add relevant data:\n",
    "data['len']  = np.array([len(tweet.text) for tweet in tweets])\n",
    "data['ID']   = np.array([tweet.id for tweet in tweets])\n",
    "data['Likes']  = np.array([tweet.favorite_count for tweet in tweets])\n",
    "data['RTs']    = np.array([tweet.retweet_count for tweet in tweets])"
   ]
  },
  {
   "cell_type": "code",
   "execution_count": 13,
   "metadata": {},
   "outputs": [
    {
     "name": "stdout",
     "output_type": "stream",
     "text": [
      "The avarage length of tweets: 68.81\n"
     ]
    }
   ],
   "source": [
    "#Simple Statistics to perform\n",
    "mean = np.mean(data['len'])\n",
    "\n",
    "print(\"The average length of tweets: {}\".format(mean))"
   ]
  },
  {
   "cell_type": "code",
   "execution_count": 23,
   "metadata": {},
   "outputs": [
    {
     "name": "stdout",
     "output_type": "stream",
     "text": [
      "The average length of tweets: 22.86\n"
     ]
    }
   ],
   "source": [
    "mean=np.mean(data['Likes'])\n",
    "print(\"The average length of tweets: {}\".format(mean))"
   ]
  },
  {
   "cell_type": "code",
   "execution_count": null,
   "metadata": {
    "collapsed": true
   },
   "outputs": [],
   "source": []
  },
  {
   "cell_type": "code",
   "execution_count": 14,
   "metadata": {},
   "outputs": [
    {
     "name": "stdout",
     "output_type": "stream",
     "text": [
      "The tweet with more likes is: \n",
      "Cloud computing has been around longer than you think: in the 1970s we released the IBM System/370, with one of the… https://t.co/MZ4WGCFFne\n",
      "Number of likes: 975\n",
      "140 characters.\n",
      "\n",
      "The tweet with more retweets is: \n",
      "RT @IBM: Blockchain on the IBM Cloud helps everyone from growers to grocers trace food supplies, preventing food waste during recalls. #Sma…\n",
      "Number of retweets: 211\n",
      "140 characters.\n",
      "\n"
     ]
    }
   ],
   "source": [
    "# We extract the tweet with more FAVs and more RTs:\n",
    "\n",
    "fav_max = np.max(data['Likes'])\n",
    "rt_max  = np.max(data['RTs'])\n",
    "\n",
    "fav = data[data.Likes == fav_max].index[0]\n",
    "rt  = data[data.RTs == rt_max].index[0]\n",
    "\n",
    "# Max FAVs:\n",
    "print(\"The tweet with more likes is: \\n{}\".format(data['Tweets'][fav]))\n",
    "print(\"Number of likes: {}\".format(fav_max))\n",
    "print(\"{} characters.\\n\".format(data['len'][fav]))\n",
    "\n",
    "# Max RTs:\n",
    "print(\"The tweet with more retweets is: \\n{}\".format(data['Tweets'][rt]))\n",
    "print(\"Number of retweets: {}\".format(rt_max))\n",
    "print(\"{} characters.\\n\".format(data['len'][rt]))"
   ]
  },
  {
   "cell_type": "code",
   "execution_count": 16,
   "metadata": {
    "collapsed": true
   },
   "outputs": [],
   "source": [
    "from textblob import TextBlob\n",
    "import re\n",
    "\n",
    "def clean_tweet(tweet):\n",
    "    \n",
    "    # Utility function to clean the text in a tweet by removing links and special characters using regex.\n",
    "\n",
    "    return ' '.join(re.sub(\"(@[A-Za-z0-9]+)|([^0-9A-Za-z \\t])|(\\w+:\\/\\/\\S+)\", \" \", tweet).split())"
   ]
  },
  {
   "cell_type": "code",
   "execution_count": 17,
   "metadata": {
    "collapsed": true
   },
   "outputs": [],
   "source": [
    "def analyze_sentiment(tweet):\n",
    "\n",
    "   #Utility function to classify the polarity of a tweet using textblob.\n",
    "\n",
    "    analysis = TextBlob(clean_tweet(tweet))\n",
    "    if analysis.sentiment.polarity > 0:\n",
    "        return 1\n",
    "    elif analysis.sentiment.polarity == 0:\n",
    "        return 0\n",
    "    else:\n",
    "        return -1"
   ]
  },
  {
   "cell_type": "code",
   "execution_count": 25,
   "metadata": {},
   "outputs": [
    {
     "data": {
      "text/html": [
       "<div>\n",
       "<style scoped>\n",
       "    .dataframe tbody tr th:only-of-type {\n",
       "        vertical-align: middle;\n",
       "    }\n",
       "\n",
       "    .dataframe tbody tr th {\n",
       "        vertical-align: top;\n",
       "    }\n",
       "\n",
       "    .dataframe thead th {\n",
       "        text-align: right;\n",
       "    }\n",
       "</style>\n",
       "<table border=\"1\" class=\"dataframe\">\n",
       "  <thead>\n",
       "    <tr style=\"text-align: right;\">\n",
       "      <th></th>\n",
       "      <th>Tweets</th>\n",
       "      <th>len</th>\n",
       "      <th>ID</th>\n",
       "      <th>Likes</th>\n",
       "      <th>RTs</th>\n",
       "      <th>SA</th>\n",
       "    </tr>\n",
       "  </thead>\n",
       "  <tbody>\n",
       "    <tr>\n",
       "      <th>0</th>\n",
       "      <td>@amour_de_porc Have a great day Penny!</td>\n",
       "      <td>38</td>\n",
       "      <td>1204487952119848960</td>\n",
       "      <td>1</td>\n",
       "      <td>0</td>\n",
       "      <td>1</td>\n",
       "    </tr>\n",
       "    <tr>\n",
       "      <th>1</th>\n",
       "      <td>Meet Gerd Binnig and Heinrich Rohrer, inventor...</td>\n",
       "      <td>139</td>\n",
       "      <td>1204437304196108288</td>\n",
       "      <td>36</td>\n",
       "      <td>17</td>\n",
       "      <td>0</td>\n",
       "    </tr>\n",
       "    <tr>\n",
       "      <th>2</th>\n",
       "      <td>@sfiloteo Thank you Sherrylyn!</td>\n",
       "      <td>30</td>\n",
       "      <td>1204430069785120768</td>\n",
       "      <td>0</td>\n",
       "      <td>0</td>\n",
       "      <td>0</td>\n",
       "    </tr>\n",
       "    <tr>\n",
       "      <th>3</th>\n",
       "      <td>@sudo_sudoka Thank you for bringing this to ou...</td>\n",
       "      <td>106</td>\n",
       "      <td>1204426429120876544</td>\n",
       "      <td>1</td>\n",
       "      <td>0</td>\n",
       "      <td>0</td>\n",
       "    </tr>\n",
       "    <tr>\n",
       "      <th>4</th>\n",
       "      <td>@MoRebaie @MoRebaie https://t.co/CDjmtR9A2p</td>\n",
       "      <td>43</td>\n",
       "      <td>1204131879005196289</td>\n",
       "      <td>1</td>\n",
       "      <td>0</td>\n",
       "      <td>0</td>\n",
       "    </tr>\n",
       "    <tr>\n",
       "      <th>5</th>\n",
       "      <td>@Honey_Dropz Happy holidays! 💙 ❄️ ☃️</td>\n",
       "      <td>36</td>\n",
       "      <td>1204129601905188869</td>\n",
       "      <td>0</td>\n",
       "      <td>0</td>\n",
       "      <td>1</td>\n",
       "    </tr>\n",
       "    <tr>\n",
       "      <th>6</th>\n",
       "      <td>@barbphillips77 We wish you and everyone at @W...</td>\n",
       "      <td>93</td>\n",
       "      <td>1204127495903158273</td>\n",
       "      <td>2</td>\n",
       "      <td>0</td>\n",
       "      <td>1</td>\n",
       "    </tr>\n",
       "    <tr>\n",
       "      <th>7</th>\n",
       "      <td>@pantone 💙</td>\n",
       "      <td>10</td>\n",
       "      <td>1204126318100713472</td>\n",
       "      <td>3</td>\n",
       "      <td>0</td>\n",
       "      <td>0</td>\n",
       "    </tr>\n",
       "    <tr>\n",
       "      <th>8</th>\n",
       "      <td>@MariamMadiha @MariamMadiha https://t.co/0Miit...</td>\n",
       "      <td>51</td>\n",
       "      <td>1204123703690321920</td>\n",
       "      <td>1</td>\n",
       "      <td>0</td>\n",
       "      <td>0</td>\n",
       "    </tr>\n",
       "    <tr>\n",
       "      <th>9</th>\n",
       "      <td>@Deepakkoshal 🎉 https://t.co/ID8ftz8s6T</td>\n",
       "      <td>39</td>\n",
       "      <td>1204123271106613250</td>\n",
       "      <td>1</td>\n",
       "      <td>0</td>\n",
       "      <td>0</td>\n",
       "    </tr>\n",
       "    <tr>\n",
       "      <th>10</th>\n",
       "      <td>@DanilleJager Looks like it was a great event!...</td>\n",
       "      <td>79</td>\n",
       "      <td>1204123009633665027</td>\n",
       "      <td>1</td>\n",
       "      <td>0</td>\n",
       "      <td>1</td>\n",
       "    </tr>\n",
       "    <tr>\n",
       "      <th>11</th>\n",
       "      <td>@ChristosSK1984 What a gem.</td>\n",
       "      <td>27</td>\n",
       "      <td>1204122239634935809</td>\n",
       "      <td>0</td>\n",
       "      <td>0</td>\n",
       "      <td>0</td>\n",
       "    </tr>\n",
       "    <tr>\n",
       "      <th>12</th>\n",
       "      <td>@HaleyHervert 👍</td>\n",
       "      <td>15</td>\n",
       "      <td>1204122040808222720</td>\n",
       "      <td>0</td>\n",
       "      <td>0</td>\n",
       "      <td>0</td>\n",
       "    </tr>\n",
       "    <tr>\n",
       "      <th>13</th>\n",
       "      <td>@MulberryTH Awesome! Thanks for sharing 👍</td>\n",
       "      <td>41</td>\n",
       "      <td>1204121348861255680</td>\n",
       "      <td>0</td>\n",
       "      <td>0</td>\n",
       "      <td>1</td>\n",
       "    </tr>\n",
       "    <tr>\n",
       "      <th>14</th>\n",
       "      <td>@treygo 💙 💙 💙</td>\n",
       "      <td>13</td>\n",
       "      <td>1204121170297135104</td>\n",
       "      <td>2</td>\n",
       "      <td>0</td>\n",
       "      <td>0</td>\n",
       "    </tr>\n",
       "  </tbody>\n",
       "</table>\n",
       "</div>"
      ],
      "text/plain": [
       "                                               Tweets  len  \\\n",
       "0              @amour_de_porc Have a great day Penny!   38   \n",
       "1   Meet Gerd Binnig and Heinrich Rohrer, inventor...  139   \n",
       "2                      @sfiloteo Thank you Sherrylyn!   30   \n",
       "3   @sudo_sudoka Thank you for bringing this to ou...  106   \n",
       "4         @MoRebaie @MoRebaie https://t.co/CDjmtR9A2p   43   \n",
       "5                @Honey_Dropz Happy holidays! 💙 ❄️ ☃️   36   \n",
       "6   @barbphillips77 We wish you and everyone at @W...   93   \n",
       "7                                          @pantone 💙   10   \n",
       "8   @MariamMadiha @MariamMadiha https://t.co/0Miit...   51   \n",
       "9             @Deepakkoshal 🎉 https://t.co/ID8ftz8s6T   39   \n",
       "10  @DanilleJager Looks like it was a great event!...   79   \n",
       "11                        @ChristosSK1984 What a gem.   27   \n",
       "12                                    @HaleyHervert 👍   15   \n",
       "13          @MulberryTH Awesome! Thanks for sharing 👍   41   \n",
       "14                                      @treygo 💙 💙 💙   13   \n",
       "\n",
       "                     ID  Likes  RTs  SA  \n",
       "0   1204487952119848960      1    0   1  \n",
       "1   1204437304196108288     36   17   0  \n",
       "2   1204430069785120768      0    0   0  \n",
       "3   1204426429120876544      1    0   0  \n",
       "4   1204131879005196289      1    0   0  \n",
       "5   1204129601905188869      0    0   1  \n",
       "6   1204127495903158273      2    0   1  \n",
       "7   1204126318100713472      3    0   0  \n",
       "8   1204123703690321920      1    0   0  \n",
       "9   1204123271106613250      1    0   0  \n",
       "10  1204123009633665027      1    0   1  \n",
       "11  1204122239634935809      0    0   0  \n",
       "12  1204122040808222720      0    0   0  \n",
       "13  1204121348861255680      0    0   1  \n",
       "14  1204121170297135104      2    0   0  "
      ]
     },
     "execution_count": 25,
     "metadata": {},
     "output_type": "execute_result"
    }
   ],
   "source": [
    "data.head(15)"
   ]
  },
  {
   "cell_type": "code",
   "execution_count": 19,
   "metadata": {},
   "outputs": [
    {
     "data": {
      "text/html": [
       "<div>\n",
       "<style scoped>\n",
       "    .dataframe tbody tr th:only-of-type {\n",
       "        vertical-align: middle;\n",
       "    }\n",
       "\n",
       "    .dataframe tbody tr th {\n",
       "        vertical-align: top;\n",
       "    }\n",
       "\n",
       "    .dataframe thead th {\n",
       "        text-align: right;\n",
       "    }\n",
       "</style>\n",
       "<table border=\"1\" class=\"dataframe\">\n",
       "  <thead>\n",
       "    <tr style=\"text-align: right;\">\n",
       "      <th></th>\n",
       "      <th>Tweets</th>\n",
       "      <th>len</th>\n",
       "      <th>ID</th>\n",
       "      <th>Likes</th>\n",
       "      <th>RTs</th>\n",
       "      <th>SA</th>\n",
       "    </tr>\n",
       "  </thead>\n",
       "  <tbody>\n",
       "    <tr>\n",
       "      <th>0</th>\n",
       "      <td>@amour_de_porc Have a great day Penny!</td>\n",
       "      <td>38</td>\n",
       "      <td>1204487952119848960</td>\n",
       "      <td>1</td>\n",
       "      <td>0</td>\n",
       "      <td>1</td>\n",
       "    </tr>\n",
       "    <tr>\n",
       "      <th>1</th>\n",
       "      <td>Meet Gerd Binnig and Heinrich Rohrer, inventor...</td>\n",
       "      <td>139</td>\n",
       "      <td>1204437304196108288</td>\n",
       "      <td>36</td>\n",
       "      <td>17</td>\n",
       "      <td>0</td>\n",
       "    </tr>\n",
       "    <tr>\n",
       "      <th>2</th>\n",
       "      <td>@sfiloteo Thank you Sherrylyn!</td>\n",
       "      <td>30</td>\n",
       "      <td>1204430069785120768</td>\n",
       "      <td>0</td>\n",
       "      <td>0</td>\n",
       "      <td>0</td>\n",
       "    </tr>\n",
       "    <tr>\n",
       "      <th>3</th>\n",
       "      <td>@sudo_sudoka Thank you for bringing this to ou...</td>\n",
       "      <td>106</td>\n",
       "      <td>1204426429120876544</td>\n",
       "      <td>1</td>\n",
       "      <td>0</td>\n",
       "      <td>0</td>\n",
       "    </tr>\n",
       "    <tr>\n",
       "      <th>4</th>\n",
       "      <td>@MoRebaie @MoRebaie https://t.co/CDjmtR9A2p</td>\n",
       "      <td>43</td>\n",
       "      <td>1204131879005196289</td>\n",
       "      <td>1</td>\n",
       "      <td>0</td>\n",
       "      <td>0</td>\n",
       "    </tr>\n",
       "    <tr>\n",
       "      <th>5</th>\n",
       "      <td>@Honey_Dropz Happy holidays! 💙 ❄️ ☃️</td>\n",
       "      <td>36</td>\n",
       "      <td>1204129601905188869</td>\n",
       "      <td>0</td>\n",
       "      <td>0</td>\n",
       "      <td>1</td>\n",
       "    </tr>\n",
       "    <tr>\n",
       "      <th>6</th>\n",
       "      <td>@barbphillips77 We wish you and everyone at @W...</td>\n",
       "      <td>93</td>\n",
       "      <td>1204127495903158273</td>\n",
       "      <td>2</td>\n",
       "      <td>0</td>\n",
       "      <td>1</td>\n",
       "    </tr>\n",
       "    <tr>\n",
       "      <th>7</th>\n",
       "      <td>@pantone 💙</td>\n",
       "      <td>10</td>\n",
       "      <td>1204126318100713472</td>\n",
       "      <td>3</td>\n",
       "      <td>0</td>\n",
       "      <td>0</td>\n",
       "    </tr>\n",
       "    <tr>\n",
       "      <th>8</th>\n",
       "      <td>@MariamMadiha @MariamMadiha https://t.co/0Miit...</td>\n",
       "      <td>51</td>\n",
       "      <td>1204123703690321920</td>\n",
       "      <td>1</td>\n",
       "      <td>0</td>\n",
       "      <td>0</td>\n",
       "    </tr>\n",
       "    <tr>\n",
       "      <th>9</th>\n",
       "      <td>@Deepakkoshal 🎉 https://t.co/ID8ftz8s6T</td>\n",
       "      <td>39</td>\n",
       "      <td>1204123271106613250</td>\n",
       "      <td>1</td>\n",
       "      <td>0</td>\n",
       "      <td>0</td>\n",
       "    </tr>\n",
       "  </tbody>\n",
       "</table>\n",
       "</div>"
      ],
      "text/plain": [
       "                                              Tweets  len  \\\n",
       "0             @amour_de_porc Have a great day Penny!   38   \n",
       "1  Meet Gerd Binnig and Heinrich Rohrer, inventor...  139   \n",
       "2                     @sfiloteo Thank you Sherrylyn!   30   \n",
       "3  @sudo_sudoka Thank you for bringing this to ou...  106   \n",
       "4        @MoRebaie @MoRebaie https://t.co/CDjmtR9A2p   43   \n",
       "5               @Honey_Dropz Happy holidays! 💙 ❄️ ☃️   36   \n",
       "6  @barbphillips77 We wish you and everyone at @W...   93   \n",
       "7                                         @pantone 💙   10   \n",
       "8  @MariamMadiha @MariamMadiha https://t.co/0Miit...   51   \n",
       "9            @Deepakkoshal 🎉 https://t.co/ID8ftz8s6T   39   \n",
       "\n",
       "                    ID  Likes  RTs  SA  \n",
       "0  1204487952119848960      1    0   1  \n",
       "1  1204437304196108288     36   17   0  \n",
       "2  1204430069785120768      0    0   0  \n",
       "3  1204426429120876544      1    0   0  \n",
       "4  1204131879005196289      1    0   0  \n",
       "5  1204129601905188869      0    0   1  \n",
       "6  1204127495903158273      2    0   1  \n",
       "7  1204126318100713472      3    0   0  \n",
       "8  1204123703690321920      1    0   0  \n",
       "9  1204123271106613250      1    0   0  "
      ]
     },
     "metadata": {},
     "output_type": "execute_result"
    }
   ],
   "source": [
    "# We create a column with the result of the analysis:\n",
    "data['SA'] = np.array([ analyze_sentiment(tweet) for tweet in data['Tweets'] ])\n",
    "\n",
    "\n",
    "display(data.head(10))"
   ]
  },
  {
   "cell_type": "code",
   "execution_count": 20,
   "metadata": {
    "collapsed": true
   },
   "outputs": [],
   "source": [
    "  # We construct lists with classified tweets:\n",
    "\n",
    "pos_tweets = [ tweet for index, tweet in enumerate(data['Tweets']) if data['SA'][index] > 0]\n",
    "neu_tweets = [ tweet for index, tweet in enumerate(data['Tweets']) if data['SA'][index] == 0]\n",
    "neg_tweets = [ tweet for index, tweet in enumerate(data['Tweets']) if data['SA'][index] < 0]"
   ]
  },
  {
   "cell_type": "code",
   "execution_count": 21,
   "metadata": {},
   "outputs": [
    {
     "name": "stdout",
     "output_type": "stream",
     "text": [
      "Percentage of positive tweets: 48.0%\n",
      "Percentage of neutral tweets: 47.5%\n",
      "Percentage of negative tweets: 4.5%\n"
     ]
    }
   ],
   "source": [
    "print(\"Percentage of positive tweets: {}%\".format(len(pos_tweets)*100/len(data['Tweets'])))\n",
    "print(\"Percentage of neutral tweets: {}%\".format(len(neu_tweets)*100/len(data['Tweets'])))\n",
    "print(\"Percentage of negative tweets: {}%\".format(len(neg_tweets)*100/len(data['Tweets'])))"
   ]
  },
  {
   "cell_type": "code",
   "execution_count": 28,
   "metadata": {},
   "outputs": [
    {
     "name": "stdout",
     "output_type": "stream",
     "text": [
      "[\"@Tolwyn Hi there, we're sorry for your frustration. We would recommend bookmarking the main IBM Support page and na… https://t.co/JIxETN725N\", 'Maintaining a strong wireless network is difficult since physical structures can block wavelengths. \\n\\nCheck out how… https://t.co/peNv3JI7tW', '@wnba_youngboy Ouch. Hangovers are no fun at all 😟. In future, limit your alcohol intake and stay hydrated 💧💧💧', \"@densityMeter Hi Brian, we're sorry for your frustration. Please visit our web page and open a support case here so… https://t.co/cf7GShUIg5\", '@martinlieberman Thank you for your hard work Martin!', '@Duv09 Thankful for your grandfathers hard work and innovation! Thanks for sharing with us David.', 'RT @IBM: Blockchain on the IBM Cloud helps everyone from growers to grocers trace food supplies, preventing food waste during recalls. #Sma…', '@JohanSjareltjen Thank you for your hard work! #ProudIBMer', '@cascholten Thanks for your hard work Clark!']\n"
     ]
    }
   ],
   "source": [
    "#Negative words(Twitter & Term)\n",
    "\n",
    "print(neg_tweets)"
   ]
  },
  {
   "cell_type": "code",
   "execution_count": 46,
   "metadata": {
    "collapsed": true
   },
   "outputs": [],
   "source": [
    "\n",
    "import pandas as pd\n",
    "import numpy as np\n",
    "\n",
    "\n",
    "from sklearn.feature_extraction.text import CountVectorizer\n",
    "from sklearn.base import BaseEstimator, ClassifierMixin\n",
    "from sklearn.linear_model import LogisticRegression\n",
    "from sklearn.model_selection import cross_val_score,train_test_split,GridSearchCV\n",
    "\n",
    "\n",
    "from sklearn.naive_bayes import MultinomialNB\n",
    "from sklearn.ensemble import RandomForestClassifier,BaggingClassifier,ExtraTreesClassifier\n",
    "from sklearn.tree import DecisionTreeClassifier\n",
    "\n",
    "import numpy as np\n",
    "import matplotlib.pyplot as plt\n"
   ]
  },
  {
   "cell_type": "code",
   "execution_count": 50,
   "metadata": {
    "collapsed": true
   },
   "outputs": [],
   "source": [
    "df=data['SA']\n"
   ]
  },
  {
   "cell_type": "code",
   "execution_count": 51,
   "metadata": {},
   "outputs": [
    {
     "name": "stdout",
     "output_type": "stream",
     "text": [
      "0      1\n",
      "1      0\n",
      "2      0\n",
      "3      0\n",
      "4      0\n",
      "      ..\n",
      "195    0\n",
      "196    1\n",
      "197    0\n",
      "198    0\n",
      "199    1\n",
      "Name: SA, Length: 200, dtype: int32\n"
     ]
    }
   ],
   "source": [
    "print(df)"
   ]
  },
  {
   "cell_type": "code",
   "execution_count": 52,
   "metadata": {
    "collapsed": true
   },
   "outputs": [],
   "source": [
    "\n",
    "#Medavakkam wikipedia bag of words\n",
    "\n",
    "import nltk  \n",
    "import numpy as np  \n",
    "import random  \n",
    "import string\n",
    "\n",
    "import bs4 as bs  \n",
    "import urllib.request  \n",
    "import re  "
   ]
  },
  {
   "cell_type": "code",
   "execution_count": 81,
   "metadata": {
    "collapsed": true
   },
   "outputs": [],
   "source": [
    "raw_html = urllib.request.urlopen('https://en.wikipedia.org/wiki/Medavakkam')  \n",
    "raw_html = raw_html.read()\n",
    "\n",
    "article_html = bs.BeautifulSoup(raw_html, 'lxml')\n",
    "\n",
    "article_paragraphs = article_html.find_all('p')\n",
    "\n",
    "article_text = ''\n",
    "\n",
    "for para in article_paragraphs:  \n",
    "    article_text += para.text"
   ]
  },
  {
   "cell_type": "code",
   "execution_count": 82,
   "metadata": {
    "collapsed": true
   },
   "outputs": [],
   "source": [
    "corpus = nltk.sent_tokenize(article_text)"
   ]
  },
  {
   "cell_type": "code",
   "execution_count": 83,
   "metadata": {
    "collapsed": true
   },
   "outputs": [],
   "source": [
    "for i in range(len(corpus )):\n",
    "    corpus [i] = corpus [i].lower()\n",
    "    corpus [i] = re.sub(r'\\W',' ',corpus [i])\n",
    "    corpus [i] = re.sub(r'\\s+',' ',corpus [i])\n"
   ]
  },
  {
   "cell_type": "code",
   "execution_count": 97,
   "metadata": {},
   "outputs": [
    {
     "name": "stdout",
     "output_type": "stream",
     "text": [
      "this location is a fast developing residential locality due to its close proximity to the it corridor omr approx 4 km from sholinganallur and sez in medavakkam sholinganallur road \n"
     ]
    }
   ],
   "source": [
    "print(corpus[2])\n"
   ]
  },
  {
   "cell_type": "code",
   "execution_count": 98,
   "metadata": {
    "collapsed": true
   },
   "outputs": [],
   "source": [
    "wordfreq = {}\n",
    "for sentence in corpus:\n",
    "    tokens = nltk.word_tokenize(sentence)\n",
    "    for token in tokens:\n",
    "        if token not in wordfreq.keys():\n",
    "            wordfreq[token] = 1\n",
    "        else:\n",
    "            wordfreq[token] += 1"
   ]
  },
  {
   "cell_type": "code",
   "execution_count": 99,
   "metadata": {},
   "outputs": [
    {
     "name": "stdout",
     "output_type": "stream",
     "text": [
      "{'medavakkam': 7, 'is': 5, 'a': 3, 'rural': 1, 'village': 2, 'in': 6, 'tambaram': 3, 'taluk': 1, 'of': 5, 'chengalpattu': 1, 'district': 1, 'which': 2, 'adjacent': 1, 'to': 6, 'the': 11, 'neighbourhood': 2, 'sholinganallur': 4, 'madipakkam': 1, 'selaiyur': 1, 'keelkattalai': 1, 'velachery': 2, 'and': 6, 'it': 2, 'center': 1, 'place': 1, 'developing': 2, 'suburbs': 1, 'like': 1, 'ponmar': 1, 'ottiyambakkam': 1, 'sithalapakkam': 1, 'administered': 1, 'by': 3, 'panchayat': 1, 'comes': 1, 'under': 1, 'shollinganallur': 1, 'mla': 1, 'constituency': 2, 'south': 1, 'chennai': 1, 'mp': 1, 'this': 2, 'location': 1, 'fast': 1, 'residential': 3, 'locality': 1, 'due': 1, 'its': 1, 'close': 1, 'proximity': 1, 'corridor': 1, 'omr': 1, 'approx': 1, '4': 1, 'km': 1, 'from': 3, 'sez': 1, 'road': 5, 'some': 1, 'areas': 2, 'are': 3, 'vadakupattu': 1, 'annai': 1, 'indira': 1, 'nagar': 18, 'babu': 1, 'somu': 1, 'munusamy': 1, 'vimala': 1, 'vgp': 1, 'pushpa': 1, 'aishwarya': 2, 'gardens': 1, 'garden': 3, 'extn': 1, 'soumya': 1, 'jayachandran': 1, 'green': 1, 'court': 1, 'jalladianpet': 1, 'bhel': 1, 'sairam': 1, 'gayathri': 1, 'veerabadra': 1, 'ramahia': 1, 'senthamizh': 1, 'sivagami': 1, 'royal': 2, 'rg': 1, 'united': 1, 'colony': 1, 'iyappa': 1, 'major': 1, 'roads': 1, 'linking': 1, 'junction': 2, 'mambakkam': 1, 'main': 1, 'many': 1, 'prime': 1, 'on': 1, 'gst': 1, 'chrompet': 1, 'pallavaram': 1, 'st': 1, 'thomas': 1, 'mount': 1, 'can': 1, 'be': 1, 'easily': 1, 'accessed': 1, 'according': 1, '2012': 2, 'report': 1, 'global': 1, 'property': 1, 'consultant': 1, 'knight': 1, 'frank': 1, 'has': 1, 'emerged': 1, 'as': 1, 'india': 1, 's': 1, '6th': 1, 'largest': 1, 'destination': 1, 'for': 1, 'investment': 2, 'real': 1, 'estate': 1, 'list': 1, '13': 1, 'top': 1, 'destinations': 1, 'country': 1, 'an': 1, 'point': 1, 'view': 1, 'where': 1, 'housing': 1, 'prices': 1, 'expected': 1, 'increase': 1, '103': 1, 'percent': 1, 'over': 1, 'period': 1, '2017': 1, '1': 1}\n"
     ]
    }
   ],
   "source": [
    "print(wordfreq)"
   ]
  },
  {
   "cell_type": "code",
   "execution_count": null,
   "metadata": {
    "collapsed": true
   },
   "outputs": [],
   "source": []
  },
  {
   "cell_type": "code",
   "execution_count": 100,
   "metadata": {
    "collapsed": true
   },
   "outputs": [],
   "source": [
    "import heapq\n",
    "most_freq = heapq.nlargest(200, wordfreq, key=wordfreq.get)"
   ]
  },
  {
   "cell_type": "code",
   "execution_count": 101,
   "metadata": {
    "collapsed": true
   },
   "outputs": [],
   "source": [
    "bag_words = []\n",
    "for sentence in corpus:\n",
    "    sentence_tokens = nltk.word_tokenize(sentence)\n",
    "    sent_vec = []\n",
    "    for token in most_freq:\n",
    "        if token in sentence_tokens:\n",
    "            sent_vec.append(1)\n",
    "        else:\n",
    "            sent_vec.append(0)\n",
    "    bag_words.append(sent_vec)"
   ]
  },
  {
   "cell_type": "code",
   "execution_count": 91,
   "metadata": {},
   "outputs": [
    {
     "name": "stdout",
     "output_type": "stream",
     "text": [
      "[[0, 1, 1, 1, 1, 1, 1, 1, 0, 1, 1, 1, 0, 0, 0, 0, 0, 1, 1, 1, 1, 1, 1, 0, 0, 0, 0, 0, 0, 0, 0, 1, 1, 1, 1, 1, 1, 1, 1, 1, 1, 1, 1, 1, 1, 1, 0, 0, 0, 0, 0, 0, 0, 0, 0, 0, 0, 0, 0, 0, 0, 0, 0, 0, 0, 0, 0, 0, 0, 0, 0, 0, 0, 0, 0, 0, 0, 0, 0, 0, 0, 0, 0, 0, 0, 0, 0, 0, 0, 0, 0, 0, 0, 0, 0, 0, 0, 0, 0, 0, 0, 0, 0, 0, 0, 0, 0, 0, 0, 0, 0, 0, 0, 0, 0, 0, 0, 0, 0, 0, 0, 0, 0, 0, 0, 0, 0, 0, 0, 0, 0, 0, 0, 0, 0, 0, 0, 0, 0, 0, 0, 0, 0, 0, 0, 0, 0, 0, 0, 0, 0], [0, 1, 1, 0, 0, 1, 1, 0, 0, 0, 0, 0, 1, 0, 0, 0, 0, 1, 1, 0, 0, 0, 0, 1, 0, 0, 0, 0, 0, 0, 0, 0, 0, 0, 0, 0, 0, 0, 0, 0, 0, 0, 0, 0, 0, 0, 1, 1, 1, 1, 1, 1, 1, 1, 1, 0, 0, 0, 0, 0, 0, 0, 0, 0, 0, 0, 0, 0, 0, 0, 0, 0, 0, 0, 0, 0, 0, 0, 0, 0, 0, 0, 0, 0, 0, 0, 0, 0, 0, 0, 0, 0, 0, 0, 0, 0, 0, 0, 0, 0, 0, 0, 0, 0, 0, 0, 0, 0, 0, 0, 0, 0, 0, 0, 0, 0, 0, 0, 0, 0, 0, 0, 0, 0, 0, 0, 0, 0, 0, 0, 0, 0, 0, 0, 0, 0, 0, 0, 0, 0, 0, 0, 0, 0, 0, 0, 0, 0, 0, 0, 0], [0, 1, 1, 1, 1, 1, 1, 0, 1, 1, 1, 0, 0, 1, 1, 0, 0, 0, 0, 0, 0, 1, 1, 0, 1, 0, 0, 0, 0, 0, 0, 0, 0, 0, 0, 0, 0, 0, 0, 0, 0, 0, 0, 0, 0, 0, 0, 0, 0, 0, 0, 0, 0, 0, 0, 1, 1, 1, 1, 1, 1, 1, 1, 1, 1, 1, 1, 1, 0, 0, 0, 0, 0, 0, 0, 0, 0, 0, 0, 0, 0, 0, 0, 0, 0, 0, 0, 0, 0, 0, 0, 0, 0, 0, 0, 0, 0, 0, 0, 0, 0, 0, 0, 0, 0, 0, 0, 0, 0, 0, 0, 0, 0, 0, 0, 0, 0, 0, 0, 0, 0, 0, 0, 0, 0, 0, 0, 0, 0, 0, 0, 0, 0, 0, 0, 0, 0, 0, 0, 0, 0, 0, 0, 0, 0, 0, 0, 0, 0, 0, 0], [1, 1, 1, 1, 0, 0, 0, 1, 0, 0, 0, 0, 0, 0, 0, 1, 1, 0, 0, 0, 0, 0, 0, 0, 0, 1, 1, 1, 0, 0, 0, 0, 0, 0, 0, 0, 0, 0, 0, 0, 0, 0, 0, 0, 0, 0, 0, 0, 0, 0, 0, 0, 0, 0, 0, 0, 0, 0, 0, 0, 0, 0, 0, 0, 0, 0, 0, 0, 1, 1, 1, 1, 1, 1, 1, 1, 1, 1, 1, 1, 1, 1, 1, 1, 1, 1, 1, 1, 1, 1, 1, 1, 1, 1, 1, 1, 0, 0, 0, 0, 0, 0, 0, 0, 0, 0, 0, 0, 0, 0, 0, 0, 0, 0, 0, 0, 0, 0, 0, 0, 0, 0, 0, 0, 0, 0, 0, 0, 0, 0, 0, 0, 0, 0, 0, 0, 0, 0, 0, 0, 0, 0, 0, 0, 0, 0, 0, 0, 0, 0, 0], [0, 1, 1, 0, 0, 1, 0, 0, 1, 1, 0, 1, 0, 0, 0, 1, 0, 0, 0, 0, 1, 0, 0, 0, 0, 0, 0, 0, 1, 0, 0, 0, 0, 0, 0, 0, 0, 0, 0, 0, 0, 0, 0, 0, 0, 0, 0, 0, 0, 0, 0, 0, 0, 0, 0, 0, 0, 0, 0, 0, 0, 0, 0, 0, 0, 0, 0, 0, 0, 0, 0, 0, 0, 0, 0, 0, 0, 0, 0, 0, 0, 0, 0, 0, 0, 0, 0, 0, 0, 0, 0, 0, 0, 0, 0, 0, 1, 1, 1, 1, 1, 0, 0, 0, 0, 0, 0, 0, 0, 0, 0, 0, 0, 0, 0, 0, 0, 0, 0, 0, 0, 0, 0, 0, 0, 0, 0, 0, 0, 0, 0, 0, 0, 0, 0, 0, 0, 0, 0, 0, 0, 0, 0, 0, 0, 0, 0, 0, 0, 0, 0], [0, 0, 0, 0, 0, 0, 0, 0, 1, 0, 0, 0, 0, 0, 1, 0, 0, 0, 0, 0, 0, 0, 0, 0, 1, 1, 0, 0, 1, 0, 0, 0, 0, 0, 0, 0, 0, 0, 0, 0, 0, 0, 0, 0, 0, 0, 0, 0, 0, 0, 0, 0, 0, 0, 0, 0, 0, 0, 0, 0, 0, 0, 0, 0, 0, 0, 0, 0, 0, 0, 0, 0, 0, 0, 0, 0, 0, 0, 0, 0, 0, 0, 0, 0, 0, 0, 0, 0, 0, 0, 0, 0, 0, 0, 0, 0, 0, 0, 0, 0, 0, 1, 1, 1, 1, 1, 1, 1, 1, 1, 1, 1, 1, 1, 0, 0, 0, 0, 0, 0, 0, 0, 0, 0, 0, 0, 0, 0, 0, 0, 0, 0, 0, 0, 0, 0, 0, 0, 0, 0, 0, 0, 0, 0, 0, 0, 0, 0, 0, 0, 0], [0, 1, 0, 1, 1, 0, 0, 1, 0, 0, 1, 0, 1, 1, 1, 1, 0, 0, 0, 1, 0, 0, 0, 0, 0, 0, 0, 0, 0, 1, 1, 0, 0, 0, 0, 0, 0, 0, 0, 0, 0, 0, 0, 0, 0, 0, 0, 0, 0, 0, 0, 0, 0, 0, 0, 0, 0, 0, 0, 0, 0, 0, 0, 0, 0, 0, 0, 0, 0, 0, 0, 0, 0, 0, 0, 0, 0, 0, 0, 0, 0, 0, 0, 0, 0, 0, 0, 0, 0, 0, 0, 0, 0, 0, 0, 0, 0, 0, 0, 0, 0, 0, 0, 0, 0, 0, 0, 0, 0, 0, 0, 0, 0, 0, 1, 1, 1, 1, 1, 1, 1, 1, 1, 1, 1, 1, 1, 1, 1, 1, 1, 1, 1, 1, 1, 1, 1, 1, 1, 1, 1, 1, 1, 1, 1, 1, 1, 1, 1, 1, 0], [0, 0, 0, 0, 0, 0, 0, 0, 0, 0, 0, 0, 0, 0, 0, 0, 0, 0, 0, 0, 0, 0, 0, 0, 0, 0, 0, 0, 0, 0, 0, 0, 0, 0, 0, 0, 0, 0, 0, 0, 0, 0, 0, 0, 0, 0, 0, 0, 0, 0, 0, 0, 0, 0, 0, 0, 0, 0, 0, 0, 0, 0, 0, 0, 0, 0, 0, 0, 0, 0, 0, 0, 0, 0, 0, 0, 0, 0, 0, 0, 0, 0, 0, 0, 0, 0, 0, 0, 0, 0, 0, 0, 0, 0, 0, 0, 0, 0, 0, 0, 0, 0, 0, 0, 0, 0, 0, 0, 0, 0, 0, 0, 0, 0, 0, 0, 0, 0, 0, 0, 0, 0, 0, 0, 0, 0, 0, 0, 0, 0, 0, 0, 0, 0, 0, 0, 0, 0, 0, 0, 0, 0, 0, 0, 0, 0, 0, 0, 0, 0, 1]]\n"
     ]
    }
   ],
   "source": [
    "print(bag_words)"
   ]
  },
  {
   "cell_type": "code",
   "execution_count": null,
   "metadata": {
    "collapsed": true
   },
   "outputs": [],
   "source": []
  },
  {
   "cell_type": "code",
   "execution_count": null,
   "metadata": {
    "collapsed": true
   },
   "outputs": [],
   "source": []
  }
 ],
 "metadata": {
  "kernelspec": {
   "display_name": "Python 3",
   "language": "python",
   "name": "python3"
  },
  "language_info": {
   "codemirror_mode": {
    "name": "ipython",
    "version": 3
   },
   "file_extension": ".py",
   "mimetype": "text/x-python",
   "name": "python",
   "nbconvert_exporter": "python",
   "pygments_lexer": "ipython3",
   "version": "3.6.3"
  }
 },
 "nbformat": 4,
 "nbformat_minor": 2
}
